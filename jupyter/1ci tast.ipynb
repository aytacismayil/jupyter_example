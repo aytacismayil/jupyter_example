{
 "cells": [
  {
   "cell_type": "code",
   "execution_count": 10,
   "metadata": {},
   "outputs": [
    {
     "name": "stdout",
     "output_type": "stream",
     "text": [
      "guclusbfgh\n",
      "FxicRPcRdr\n"
     ]
    }
   ],
   "source": [
    "import random\n",
    "import string\n",
    "class Parol:\n",
    "    def __init__(self,stringLen):\n",
    "        self.stringLen=stringLen\n",
    "    def cetin(self):\n",
    "        letters = string.ascii_lowercase+string.ascii_uppercase+string.digits+'#@.%&*-=+'\n",
    "        return ''.join(random.choice(letters) for i in range(self.stringLen))\n",
    "    def weakP(self):\n",
    "        letters = string.ascii_lowercase+string.ascii_uppercase+string.digits\n",
    "        return ''.join(random.choice(letters) for i in range(self.stringLen))\n",
    "b=input('guclu')\n",
    "a=Parol(10)\n",
    "if b=='strong':\n",
    "    print(a.cetin())\n",
    "else:\n",
    "    print(a.weakP()) "
   ]
  },
  {
   "cell_type": "code",
   "execution_count": null,
   "metadata": {},
   "outputs": [],
   "source": []
  }
 ],
 "metadata": {
  "kernelspec": {
   "display_name": "Python 3",
   "language": "python",
   "name": "python3"
  },
  "language_info": {
   "codemirror_mode": {
    "name": "ipython",
    "version": 3
   },
   "file_extension": ".py",
   "mimetype": "text/x-python",
   "name": "python",
   "nbconvert_exporter": "python",
   "pygments_lexer": "ipython3",
   "version": "3.7.3"
  }
 },
 "nbformat": 4,
 "nbformat_minor": 2
}
