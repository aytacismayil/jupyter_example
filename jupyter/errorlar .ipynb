{
 "cells": [
  {
   "cell_type": "code",
   "execution_count": 1,
   "metadata": {},
   "outputs": [],
   "source": [
    "class Ad:\n",
    "    a=0   \n",
    "    def s(self):\n",
    "        return 2019-int(self.a)\n",
    "    "
   ]
  },
  {
   "cell_type": "code",
   "execution_count": 11,
   "metadata": {},
   "outputs": [
    {
     "name": "stdout",
     "output_type": "stream",
     "text": [
      "yasini daxil et: vhj\n",
      "xete bas verdi\n",
      "1976\n"
     ]
    }
   ],
   "source": [
    "nese=Ad()\n",
    "r=input(\"yasini daxil et: \")\n",
    "nese.a=r\n",
    "try:\n",
    "    q=nese.s()\n",
    "except:\n",
    "    print(\"xete bas verdi\")\n",
    "    print(q)"
   ]
  },
  {
   "cell_type": "code",
   "execution_count": 20,
   "metadata": {},
   "outputs": [
    {
     "name": "stdout",
     "output_type": "stream",
     "text": [
      "illik mass daxil et: cgg\n",
      "ilik ve ay sehv var,Errorun metniinvalid literal for int() with base 10: 'cgg'\n"
     ]
    }
   ],
   "source": [
    "try:    \n",
    "    ilik_mass=int(input(\"illik mass daxil et: \"))\n",
    "    ay=int(input(\"ayi daxil et: \"))\n",
    "\n",
    "    result=ilik_mass/ay\n",
    "    print(result)\n",
    "    \n",
    "    print(rg)\n",
    "except ValueError as err:\n",
    "    print(\"ilik ve ay sehv var,Errorun metni\" +str(err))\n",
    "except ZeroDivisionError:\n",
    "    print(\"ay 0 ola bilmez\")\n",
    "    # exit()\n",
    "except NameError:\n",
    "    print(\"veraible teyin edilmeyib\")\n",
    "except:\n",
    "    print(\"bilinmiyen error\")"
   ]
  },
  {
   "cell_type": "code",
   "execution_count": 22,
   "metadata": {},
   "outputs": [
    {
     "name": "stdout",
     "output_type": "stream",
     "text": [
      "illik mass daxil et: 344\n",
      "ayi daxil et: fgf\n",
      "aylara error var\n"
     ]
    }
   ],
   "source": [
    "try:    \n",
    "    ilik_mass=int(input(\"illik mass daxil et: \"))\n",
    "    ay=int(input(\"ayi daxil et: \"))\n",
    "\n",
    "    result=ilik_mass/ay\n",
    "    print(result)\n",
    "    \n",
    "    print(rg)\n",
    "except ValueError as err:\n",
    "    if \"int\" in str(err):\n",
    "        print(\"aylara error var\")\n",
    "    elif \"float\" in str(err):\n",
    "        print(\"mass sehv var\")\n",
    "except ZeroDivisionError:\n",
    "    print(\"ay 0 ola bilmez\")\n",
    "    # exit()\n",
    "except NameError:\n",
    "    print(\"veraible teyin edilmeyib\")\n",
    "except:\n",
    "    print(\"bilinmiyen error\")"
   ]
  },
  {
   "cell_type": "code",
   "execution_count": 23,
   "metadata": {},
   "outputs": [
    {
     "ename": "Ev",
     "evalue": "oldular",
     "output_type": "error",
     "traceback": [
      "\u001b[0;31m---------------------------------------------------------------------------\u001b[0m",
      "\u001b[0;31mEv\u001b[0m                                        Traceback (most recent call last)",
      "\u001b[0;32m<ipython-input-23-792b0c10f154>\u001b[0m in \u001b[0;36m<module>\u001b[0;34m\u001b[0m\n\u001b[1;32m      1\u001b[0m \u001b[0;32mclass\u001b[0m \u001b[0mEv\u001b[0m\u001b[0;34m(\u001b[0m\u001b[0mException\u001b[0m\u001b[0;34m)\u001b[0m\u001b[0;34m:\u001b[0m\u001b[0;34m\u001b[0m\u001b[0;34m\u001b[0m\u001b[0m\n\u001b[1;32m      2\u001b[0m     \u001b[0;32mpass\u001b[0m\u001b[0;34m\u001b[0m\u001b[0;34m\u001b[0m\u001b[0m\n\u001b[0;32m----> 3\u001b[0;31m \u001b[0;32mraise\u001b[0m \u001b[0mEv\u001b[0m\u001b[0;34m(\u001b[0m\u001b[0;34m\"oldular\"\u001b[0m\u001b[0;34m)\u001b[0m\u001b[0;34m\u001b[0m\u001b[0;34m\u001b[0m\u001b[0m\n\u001b[0m",
      "\u001b[0;31mEv\u001b[0m: oldular"
     ]
    }
   ],
   "source": [
    "class Ev(Exception):\n",
    "    pass\n",
    "raise Ev(\"oldular\")\n"
   ]
  },
  {
   "cell_type": "code",
   "execution_count": 25,
   "metadata": {},
   "outputs": [
    {
     "name": "stdout",
     "output_type": "stream",
     "text": [
      "error var\n",
      "error olsada olmasada cixir \n"
     ]
    }
   ],
   "source": [
    "try:\n",
    "    print(int(\"salam\"))\n",
    "except Exception:\n",
    "    print(\"error var\")\n",
    "finally:\n",
    "    print(\"error olsada olmasada cixir \")"
   ]
  },
  {
   "cell_type": "code",
   "execution_count": 2,
   "metadata": {},
   "outputs": [
    {
     "name": "stdout",
     "output_type": "stream",
     "text": [
      "sehv var\n"
     ]
    }
   ],
   "source": [
    "try:\n",
    "    f=open(\"test.txt\",\"w\")\n",
    "    age=input(\"ili daxil et: \")\n",
    "    age=2019 - int(age)\n",
    "    f.write(str(age))\n",
    "    f.close()\n",
    "except:\n",
    "    print(\"sehv var\")\n",
    "finally:\n",
    "    f.close()"
   ]
  },
  {
   "cell_type": "code",
   "execution_count": 29,
   "metadata": {},
   "outputs": [
    {
     "data": {
      "text/plain": [
       "'aytac'"
      ]
     },
     "execution_count": 29,
     "metadata": {},
     "output_type": "execute_result"
    }
   ],
   "source": [
    "class Kitab:\n",
    "    __adi=[]\n",
    "    \n",
    "    @property\n",
    "    def kitablar(self):\n",
    "        return self.__adi\n",
    "    @kitablar.setter\n",
    "    def kitablar(self,say):\n",
    "        self.__adi.append(say)\n",
    "    def __len__(self): #teze(self):\n",
    "        return  len(self.__adi)\n",
    "    def __getitem__(self,a):\n",
    "        return self.__adi[a]\n",
    "    \n",
    "\n",
    "kitab1=Kitab()\n",
    "kitab1.kitablar=\"aytac\"\n",
    "kitab1.kitablar=\"aytac\"\n",
    "kitab1.__len__() #kitab1.teze()\n",
    "kitab1[0]"
   ]
  },
  {
   "cell_type": "code",
   "execution_count": 22,
   "metadata": {},
   "outputs": [
    {
     "data": {
      "text/plain": [
       "['_Kitab__adi',\n",
       " '__class__',\n",
       " '__delattr__',\n",
       " '__dict__',\n",
       " '__dir__',\n",
       " '__doc__',\n",
       " '__eq__',\n",
       " '__format__',\n",
       " '__ge__',\n",
       " '__getattribute__',\n",
       " '__gettiem__',\n",
       " '__gt__',\n",
       " '__hash__',\n",
       " '__init__',\n",
       " '__init_subclass__',\n",
       " '__le__',\n",
       " '__len__',\n",
       " '__lt__',\n",
       " '__module__',\n",
       " '__ne__',\n",
       " '__new__',\n",
       " '__reduce__',\n",
       " '__reduce_ex__',\n",
       " '__repr__',\n",
       " '__setattr__',\n",
       " '__sizeof__',\n",
       " '__str__',\n",
       " '__subclasshook__',\n",
       " '__weakref__',\n",
       " 'kitablar']"
      ]
     },
     "execution_count": 22,
     "metadata": {},
     "output_type": "execute_result"
    }
   ],
   "source": [
    "dir(kitab1)"
   ]
  },
  {
   "cell_type": "code",
   "execution_count": null,
   "metadata": {},
   "outputs": [],
   "source": []
  }
 ],
 "metadata": {
  "kernelspec": {
   "display_name": "Python 3",
   "language": "python",
   "name": "python3"
  },
  "language_info": {
   "codemirror_mode": {
    "name": "ipython",
    "version": 3
   },
   "file_extension": ".py",
   "mimetype": "text/x-python",
   "name": "python",
   "nbconvert_exporter": "python",
   "pygments_lexer": "ipython3",
   "version": "3.7.3"
  }
 },
 "nbformat": 4,
 "nbformat_minor": 2
}
