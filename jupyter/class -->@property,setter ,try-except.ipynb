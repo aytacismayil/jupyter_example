{
 "cells": [
  {
   "cell_type": "code",
   "execution_count": 21,
   "metadata": {},
   "outputs": [
    {
     "data": {
      "text/plain": [
       "2019"
      ]
     },
     "execution_count": 21,
     "metadata": {},
     "output_type": "execute_result"
    }
   ],
   "source": [
    "class Ad:\n",
    "    __il=0\n",
    "    def mene(self,b):\n",
    "        if isinstance(b,int):\n",
    "            self.__il=b\n",
    "    def ili(self):\n",
    "        return 2019 - self.__il\n",
    "q=Ad()\n",
    "q.il=\"Aaaa\" #a.mene(\"salam\")\n",
    "\n",
    "q.ili()"
   ]
  },
  {
   "cell_type": "code",
   "execution_count": 10,
   "metadata": {},
   "outputs": [
    {
     "data": {
      "text/plain": [
       "19"
      ]
     },
     "execution_count": 10,
     "metadata": {},
     "output_type": "execute_result"
    }
   ],
   "source": [
    "class Salam:\n",
    "    a=0\n",
    "    def ada(self):\n",
    "        return 20-self.a\n",
    "s=Salam()\n",
    "s.a=1\n",
    "s.ada()"
   ]
  },
  {
   "cell_type": "code",
   "execution_count": 19,
   "metadata": {},
   "outputs": [
    {
     "data": {
      "text/plain": [
       "2016"
      ]
     },
     "execution_count": 19,
     "metadata": {},
     "output_type": "execute_result"
    }
   ],
   "source": [
    "class Ad:\n",
    "    __il=0\n",
    "    \n",
    "    @property\n",
    "    def men(self):\n",
    "        return self.__il\n",
    "    \n",
    "    @men.setter\n",
    "    def men(self,b):\n",
    "        if isinstance(b,int):\n",
    "            self.__il=b\n",
    "            \n",
    "    def ili(self):\n",
    "        return 2019 - self.__il\n",
    "a=Ad()\n",
    "a.men=3\n",
    "#a.men(\"salam\")\n",
    "a.ili()"
   ]
  },
  {
   "cell_type": "code",
   "execution_count": 22,
   "metadata": {},
   "outputs": [
    {
     "name": "stdout",
     "output_type": "stream",
     "text": [
      "salam\n",
      "4\n",
      "error var\n"
     ]
    }
   ],
   "source": [
    "try:\n",
    "    print(\"salam\")\n",
    "    print(int(4))\n",
    "    print(int(\"a\"))\n",
    "    print(\"hello\")\n",
    "except:\n",
    "    print(\"error var\")"
   ]
  },
  {
   "cell_type": "code",
   "execution_count": 32,
   "metadata": {},
   "outputs": [
    {
     "name": "stdout",
     "output_type": "stream",
     "text": [
      "yasini daxil et: gvfg\n",
      "Siz yasinizi daxil etmemisiz\n",
      "yasini daxil et: hffhd\n",
      "Siz yasinizi daxil etmemisiz\n",
      "yasini daxil et: bkd\n",
      "Siz yasinizi daxil etmemisiz\n",
      "yasini daxil et: 21\n",
      "2101\n"
     ]
    }
   ],
   "source": [
    "while True:\n",
    "        yas=input(\"yasini daxil et: \"  )\n",
    "        try:\n",
    "            yas=int(yas) \n",
    "           # break\n",
    "         \n",
    "        except:\n",
    "            print(\"Siz yasinizi daxil etmemisiz\")\n",
    "            continue\n",
    "        print(2122 - yas)\n",
    "        break"
   ]
  },
  {
   "cell_type": "code",
   "execution_count": null,
   "metadata": {},
   "outputs": [],
   "source": []
  }
 ],
 "metadata": {
  "kernelspec": {
   "display_name": "Python 3",
   "language": "python",
   "name": "python3"
  },
  "language_info": {
   "codemirror_mode": {
    "name": "ipython",
    "version": 3
   },
   "file_extension": ".py",
   "mimetype": "text/x-python",
   "name": "python",
   "nbconvert_exporter": "python",
   "pygments_lexer": "ipython3",
   "version": "3.7.3"
  }
 },
 "nbformat": 4,
 "nbformat_minor": 2
}
