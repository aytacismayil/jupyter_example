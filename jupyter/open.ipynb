{
 "cells": [
  {
   "cell_type": "code",
   "execution_count": 10,
   "metadata": {},
   "outputs": [
    {
     "name": "stdout",
     "output_type": "stream",
     "text": [
      " Farley\n",
      " Farley in a sweater\n",
      " dogs dressed as cats\n",
      " lazy boy recliner\n",
      " meditation\n",
      " hot coffee\n",
      " kittens (yes Plural) falling asleep on my lap\n"
     ]
    }
   ],
   "source": [
    "with open(\"/home/aytac/Documents/REPOS/techacademy_coding_bootcamp_evening_18_06_2019/06-week/activities/day-2/12-BestThingsEver/Solved/best_things_ever.txt\",\"r\") as f:\n",
    "    a=f.read()\n",
    "    a=a.split(\",\")\n",
    "    for i in a:\n",
    "        print(i)"
   ]
  },
  {
   "cell_type": "code",
   "execution_count": null,
   "metadata": {},
   "outputs": [],
   "source": []
  },
  {
   "cell_type": "code",
   "execution_count": null,
   "metadata": {},
   "outputs": [],
   "source": []
  }
 ],
 "metadata": {
  "kernelspec": {
   "display_name": "Python 3",
   "language": "python",
   "name": "python3"
  },
  "language_info": {
   "codemirror_mode": {
    "name": "ipython",
    "version": 3
   },
   "file_extension": ".py",
   "mimetype": "text/x-python",
   "name": "python",
   "nbconvert_exporter": "python",
   "pygments_lexer": "ipython3",
   "version": "3.7.3"
  }
 },
 "nbformat": 4,
 "nbformat_minor": 2
}
