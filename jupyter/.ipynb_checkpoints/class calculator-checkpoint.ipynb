{
 "cells": [
  {
   "cell_type": "code",
   "execution_count": null,
   "metadata": {},
   "outputs": [],
   "source": [
    "class Hesab:\n",
    "    def __init__(self,a, b):\n",
    "            self.a=a\n",
    "            self.b=b\n",
    "    def topla(self):\n",
    "        return self.a+self.b\n",
    "    def cix(self):\n",
    "        return self.a-self.b\n",
    "    def vur(self):\n",
    "        return self.a*b\n",
    "    def bol(self):\n",
    "        return a/b\n",
    "a=int(input())\n",
    "b=int(input())\n",
    "z=Hesab(a,b)\n",
    "z.topla()\n",
    "#z.cix()\n",
    "#z.vur()\n",
    "#z.bol()\n",
    "\n",
    "    "
   ]
  },
  {
   "cell_type": "code",
   "execution_count": null,
   "metadata": {},
   "outputs": [],
   "source": []
  }
 ],
 "metadata": {
  "kernelspec": {
   "display_name": "Python 3",
   "language": "python",
   "name": "python3"
  },
  "language_info": {
   "codemirror_mode": {
    "name": "ipython",
    "version": 3
   },
   "file_extension": ".py",
   "mimetype": "text/x-python",
   "name": "python",
   "nbconvert_exporter": "python",
   "pygments_lexer": "ipython3",
   "version": "3.7.3"
  }
 },
 "nbformat": 4,
 "nbformat_minor": 2
}
