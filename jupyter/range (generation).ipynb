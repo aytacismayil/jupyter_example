{
 "cells": [
  {
   "cell_type": "code",
   "execution_count": 1,
   "metadata": {},
   "outputs": [],
   "source": [
    "def  my_range(*args):\n",
    "    if(len(args)==1):\n",
    "        start=0\n",
    "        step=1\n",
    "        end=args[0]\n",
    "    elif(len(args)==2):\n",
    "        start=args[0]\n",
    "        end=args[1]\n",
    "        step=1\n",
    "    else:\n",
    "        start=args[0]\n",
    "        end=args[1]\n",
    "        step=args[2]\n",
    "    if(step>0):\n",
    "        while start<end:\n",
    "            old=start\n",
    "            start+=step\n",
    "            yield old\n",
    "    if(step<0):\n",
    "        while start>end:\n",
    "            old=start\n",
    "            start+=step\n",
    "            yield old"
   ]
  },
  {
   "cell_type": "code",
   "execution_count": null,
   "metadata": {},
   "outputs": [],
   "source": []
  }
 ],
 "metadata": {
  "kernelspec": {
   "display_name": "Python 3",
   "language": "python",
   "name": "python3"
  },
  "language_info": {
   "codemirror_mode": {
    "name": "ipython",
    "version": 3
   },
   "file_extension": ".py",
   "mimetype": "text/x-python",
   "name": "python",
   "nbconvert_exporter": "python",
   "pygments_lexer": "ipython3",
   "version": "3.7.3"
  }
 },
 "nbformat": 4,
 "nbformat_minor": 2
}
