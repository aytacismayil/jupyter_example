{
 "cells": [
  {
   "cell_type": "code",
   "execution_count": 100,
   "metadata": {},
   "outputs": [
    {
     "name": "stdout",
     "output_type": "stream",
     "text": [
      "{'Brad Pitt': ' Sleepers'}\n",
      "{'Tom Hanks': ' You have got mail'}\n",
      "{'Meg Ryan': ' You have got mail'}\n",
      "{'Diane Kruger': ' Troy'}\n",
      "{'Dustin Hoffman': ' Sleepers'}\n",
      "{'Anthony Hopkins': ' Hannibal'}\n",
      "{'Alec Baldwin': ' The Edge'}\n",
      "{'Angelina Jolie': ' Bone Collector'}\n",
      "{'Denzel Washington': ' Bone Collector'}\n",
      "{'Julia Roberts': ' Pretty Woman'}\n",
      "{'Gwyneth Paltrow': ' Shakespeare in Love'}\n",
      "{'Russell Crowe': ' Gladiator'}\n",
      "{'Sylvester Stallone': ' Rocky'}\n",
      "{'Johnny Depp': ' Edward Scissorhands'}\n",
      "{'Leonardo Di Caprio': ' Titanic'}\n",
      "{'Antonio Banderas': ' The Mask of Zorro'}\n",
      "{'Tom Cruise': ' Top Gun'}\n",
      "{'Kate Winslet': ' Titanic'}\n",
      "{'George Clooney': ' Oceans Eleven'}\n",
      "{'Matt Damon': ' Good Will Hunting'}\n",
      "{'Ben Affleck': ' Bounce'}\n",
      "{'Catherine Zeta Jones': ' The Mask of Zorro'}\n",
      "{'Morgan Freeman': ' Bone Collector'}\n",
      "{'Bruce Willis': ' Die Hard'}\n",
      "{'Julianne Moore': ' Assassins'}\n",
      "{'Salma Hayek': ' Desperado'}\n",
      "{'Will Smith': ' Wild Wild West'}\n",
      "{'Kevin Bacon': ' A Few Good Men'}\n",
      "{'Jim Carrey': ' The Mask'}\n",
      "{'Renee Zellweger': ' Me-Myself & Irene'}\n"
     ]
    }
   ],
   "source": [
    "f = open(\"/home/aytac/Documents/REPOS/techacademy_coding_bootcamp_evening_18_06_2019/07-week/activities/day-1/04-Movies-and-Actors/movies.txt\", \"r\")\n",
    "arr=[]\n",
    "dict={}\n",
    "for line in f:\n",
    "    a=line.strip().split(\",\")\n",
    "    arr.append(a)\n",
    "    \n",
    "for i in arr:\n",
    "    dict=({i[0]:i[1]})\n",
    "        \n",
    "    print(dict)\n",
    "    \n",
    "     \n",
    "   "
   ]
  },
  {
   "cell_type": "code",
   "execution_count": null,
   "metadata": {},
   "outputs": [],
   "source": []
  },
  {
   "cell_type": "code",
   "execution_count": null,
   "metadata": {},
   "outputs": [],
   "source": []
  }
 ],
 "metadata": {
  "kernelspec": {
   "display_name": "Python 3",
   "language": "python",
   "name": "python3"
  },
  "language_info": {
   "codemirror_mode": {
    "name": "ipython",
    "version": 3
   },
   "file_extension": ".py",
   "mimetype": "text/x-python",
   "name": "python",
   "nbconvert_exporter": "python",
   "pygments_lexer": "ipython3",
   "version": "3.7.3"
  }
 },
 "nbformat": 4,
 "nbformat_minor": 2
}
