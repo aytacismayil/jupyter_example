{
 "cells": [
  {
   "cell_type": "code",
   "execution_count": 1,
   "metadata": {},
   "outputs": [
    {
     "name": "stdout",
     "output_type": "stream",
     "text": [
      "alla\n"
     ]
    }
   ],
   "source": [
    "a=\"alla\"\n",
    "if a==a[::-1]:\n",
    "    print(a )\n"
   ]
  },
  {
   "cell_type": "code",
   "execution_count": 14,
   "metadata": {},
   "outputs": [
    {
     "data": {
      "text/plain": [
       "3"
      ]
     },
     "execution_count": 14,
     "metadata": {},
     "output_type": "execute_result"
    }
   ],
   "source": [
    "a=[1,1,2,3,4,4,5,6,7,4]\n",
    "a.count(4)"
   ]
  },
  {
   "cell_type": "code",
   "execution_count": 42,
   "metadata": {},
   "outputs": [
    {
     "name": "stdout",
     "output_type": "stream",
     "text": [
      "1 2 3 4 5  \n",
      "2 3 4 5 1  \n",
      "3 4 5 1 2  \n",
      "4 5 1 2 3  \n",
      "5 1 2 3 4  \n"
     ]
    }
   ],
   "source": [
    "limit=5\n",
    "start=0\n",
    "for i in range(limit):\n",
    "    for j in range(limit):\n",
    "        number=(start+i+j)% limit +1\n",
    "        if  not number:\n",
    "            number=limit\n",
    "        print(number,end=\" \")\n",
    "    print(\" \")"
   ]
  },
  {
   "cell_type": "code",
   "execution_count": 14,
   "metadata": {},
   "outputs": [],
   "source": [
    "def myrange(*args):\n",
    "    start=0\n",
    "    stop=0\n",
    "    step=1\n",
    "    if len(args)==1:\n",
    "        stop=args[0]\n",
    "    elif len(args)==2:\n",
    "        start=args[0]\n",
    "        stop=args[1]\n",
    "    elif len(args)==3:\n",
    "        start==args[0]\n",
    "        stop=args[1]\n",
    "        step==args[2]\n",
    "   \n",
    "    while (step>0 and start<stop) or (step<0 and start>stop):\n",
    "            tm=start\n",
    "            start+=step\n",
    "            yield tm\n"
   ]
  },
  {
   "cell_type": "code",
   "execution_count": 20,
   "metadata": {},
   "outputs": [
    {
     "name": "stdout",
     "output_type": "stream",
     "text": [
      "0\n",
      "1\n",
      "2\n",
      "3\n",
      "4\n"
     ]
    }
   ],
   "source": [
    "for i in myrange(1,5,2):\n",
    "    print(i)"
   ]
  },
  {
   "cell_type": "code",
   "execution_count": null,
   "metadata": {},
   "outputs": [],
   "source": []
  }
 ],
 "metadata": {
  "kernelspec": {
   "display_name": "Python 3",
   "language": "python",
   "name": "python3"
  },
  "language_info": {
   "codemirror_mode": {
    "name": "ipython",
    "version": 3
   },
   "file_extension": ".py",
   "mimetype": "text/x-python",
   "name": "python",
   "nbconvert_exporter": "python",
   "pygments_lexer": "ipython3",
   "version": "3.7.3"
  }
 },
 "nbformat": 4,
 "nbformat_minor": 2
}
